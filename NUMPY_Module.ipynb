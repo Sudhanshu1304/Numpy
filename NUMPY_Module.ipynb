{
  "nbformat": 4,
  "nbformat_minor": 0,
  "metadata": {
    "colab": {
      "name": "NUMPY_Module.ipynb",
      "provenance": [],
      "collapsed_sections": [
        "4woekYF_VOrG"
      ],
      "authorship_tag": "ABX9TyMGArNtzUcyBtK9uDSBwZRR",
      "include_colab_link": true
    },
    "kernelspec": {
      "name": "python3",
      "display_name": "Python 3"
    }
  },
  "cells": [
    {
      "cell_type": "markdown",
      "metadata": {
        "id": "view-in-github",
        "colab_type": "text"
      },
      "source": [
        "<a href=\"https://colab.research.google.com/github/Sudhanshu1304/Numpy/blob/main/NUMPY_Module.ipynb\" target=\"_parent\"><img src=\"https://colab.research.google.com/assets/colab-badge.svg\" alt=\"Open In Colab\"/></a>"
      ]
    },
    {
      "cell_type": "markdown",
      "metadata": {
        "id": "GMmkKT5gJpwh"
      },
      "source": [
        "### **[Numpy](https://www.geeksforgeeks.org/numpy-in-python-set-1-introduction/)**\n",
        "\n",
        "<br>\n",
        "\n",
        "NumPy is a general-purpose array-processing package. It provides a high-performance multidimensional array object, and tools for working with these arrays.\n",
        "\n",
        "It is the fundamental package for scientific computing with Python.\n",
        "\n",
        "<br>\n"
      ]
    },
    {
      "cell_type": "markdown",
      "metadata": {
        "id": "m814-Wp3Ih3t"
      },
      "source": [
        "**What’s the difference between a Python list and a NumPy array?**\n",
        "\n",
        "NumPy provides **fast and efficient ways of creating and manipulating numerical data** present inside numpy array. While a Python list can contain different data types within itself, **all of the elements in a NumPy array should be homogeneous.** The mathematical operations which are to be performed on arrays would be extremely inefficient if the arrays weren’t homogeneous in nature.\n",
        "\n",
        "NumPy is much more faster and lighter as compared to python lists. Since NumPy arrays occupies less memory to store data with mechanisms of specifying datatype. Hence, providing us the benefit of optimizing it even further."
      ]
    },
    {
      "cell_type": "code",
      "metadata": {
        "id": "Jkn9uFoOIhAI"
      },
      "source": [
        ""
      ],
      "execution_count": null,
      "outputs": []
    },
    {
      "cell_type": "markdown",
      "metadata": {
        "id": "606XbPISkrOk"
      },
      "source": [
        "\n",
        "# **Topics covered**\n",
        "\n",
        "\n",
        "* **Creating Array**\n",
        "* **Reshape()**\n",
        "* **Shape() and Data type**\n",
        "* **Type Conversion (.astype())** \n",
        "* **Full()**\n",
        "* **Arange()**\n",
        "* **Indexing**\n",
        "* **Slicing**\n",
        "* **Delete**\n",
        "* **Concatination**\n",
        "* **Searching** \n",
        "* **Sorting**\n",
        "\n",
        "<br><br>"
      ]
    },
    {
      "cell_type": "markdown",
      "metadata": {
        "id": "dzEk-6GJP9Yo"
      },
      "source": [
        "### **Installing Numpy**"
      ]
    },
    {
      "cell_type": "code",
      "metadata": {
        "id": "tJ293pZfgCEx"
      },
      "source": [
        "'''\n",
        "Write the below command in CMD\n",
        "'''\n",
        "\n",
        "pip install numpy"
      ],
      "execution_count": null,
      "outputs": []
    },
    {
      "cell_type": "markdown",
      "metadata": {
        "id": "H5diVfn75vtj"
      },
      "source": [
        "# **Importing Numpy Array**"
      ]
    },
    {
      "cell_type": "code",
      "metadata": {
        "id": "JxKoiGKz50_z"
      },
      "source": [
        "import numpy as np"
      ],
      "execution_count": null,
      "outputs": []
    },
    {
      "cell_type": "markdown",
      "metadata": {
        "id": "Cj0A9iqwr7Xb"
      },
      "source": [
        "### **Creating Array (np.array())**\n",
        "\n"
      ]
    },
    {
      "cell_type": "code",
      "metadata": {
        "id": "2lBS6dLZrDYs"
      },
      "source": [
        "''' Creating a normal array '''\n",
        "\n",
        "normal_array=[1,2,3,4,6,7]\n",
        "normal_array\n"
      ],
      "execution_count": null,
      "outputs": []
    },
    {
      "cell_type": "code",
      "metadata": {
        "id": "KBl_upc68a4N"
      },
      "source": [
        "''' Creating a numpy array '''\n",
        "\n",
        "numpy_array=np.array([1,7,4,3,7,9])\n",
        "\n",
        "numpy_array\n"
      ],
      "execution_count": null,
      "outputs": []
    },
    {
      "cell_type": "code",
      "metadata": {
        "id": "BhCCEtNurrKt"
      },
      "source": [
        "''' Comparing the two arrays '''\n",
        "\n",
        "print(type(normal_array),type(numpy_array))\n"
      ],
      "execution_count": null,
      "outputs": []
    },
    {
      "cell_type": "code",
      "metadata": {
        "id": "zk_uIyMwXNPB"
      },
      "source": [
        ""
      ],
      "execution_count": null,
      "outputs": []
    },
    {
      "cell_type": "markdown",
      "metadata": {
        "id": "jCtz7BGGuLQS"
      },
      "source": [
        "### **.shape and .dtype**"
      ]
    },
    {
      "cell_type": "code",
      "metadata": {
        "id": "lndGPyZus5HQ"
      },
      "source": [
        "arr.shape"
      ],
      "execution_count": null,
      "outputs": []
    },
    {
      "cell_type": "code",
      "metadata": {
        "id": "dqMUANX2vEgS"
      },
      "source": [
        "arr.dtype"
      ],
      "execution_count": null,
      "outputs": []
    },
    {
      "cell_type": "markdown",
      "metadata": {
        "id": "kQpDHIfksk0H"
      },
      "source": [
        "### **.reshape()**"
      ]
    },
    {
      "cell_type": "code",
      "metadata": {
        "id": "Q7YECEEYIz6M"
      },
      "source": [
        "'''  \n",
        "The reshape() function is used to give a new shape to an array without changing its data. Array to be reshaped. \n",
        "The new shape should be compatible with the original shape. \n",
        "\n",
        "1D array converted into 2D array with 2 rows and 3 Columns  \n",
        "\n",
        "'''\n",
        "\n",
        "arr=np.array([1.0,2,3,5,6,7])\n",
        "\n",
        "arr=arr.reshape((2,3))\n",
        "\n",
        "arr"
      ],
      "execution_count": null,
      "outputs": []
    },
    {
      "cell_type": "markdown",
      "metadata": {
        "id": "iVROPxfrwYtD"
      },
      "source": [
        "### **Type converstion (.astype())**"
      ]
    },
    {
      "cell_type": "code",
      "metadata": {
        "id": "1y1RzwfyvNFp"
      },
      "source": [
        "arr=np.array([5,4,3,2])\n",
        "arr.dtype"
      ],
      "execution_count": null,
      "outputs": []
    },
    {
      "cell_type": "code",
      "metadata": {
        "id": "wWB0EMMpx4Eu"
      },
      "source": [
        "arr=arr.astype('float')"
      ],
      "execution_count": null,
      "outputs": []
    },
    {
      "cell_type": "code",
      "metadata": {
        "id": "ALtIK-cYyUay"
      },
      "source": [
        "arr.dtype"
      ],
      "execution_count": null,
      "outputs": []
    },
    {
      "cell_type": "code",
      "metadata": {
        "id": "hP_aVnRlyVYe"
      },
      "source": [
        ""
      ],
      "execution_count": null,
      "outputs": []
    },
    {
      "cell_type": "markdown",
      "metadata": {
        "id": "5SzxtFV5ggJS"
      },
      "source": [
        "### **.full()**"
      ]
    },
    {
      "cell_type": "code",
      "metadata": {
        "id": "xu2QugJOKM9a"
      },
      "source": [
        "''' numpy.full() '''\n",
        "\n",
        "arr=np.full(shape=(3,5),fill_value=-5)\n",
        "arr"
      ],
      "execution_count": null,
      "outputs": []
    },
    {
      "cell_type": "code",
      "metadata": {
        "id": "sNPLnsqOmbCW"
      },
      "source": [
        ""
      ],
      "execution_count": null,
      "outputs": []
    },
    {
      "cell_type": "markdown",
      "metadata": {
        "id": "TiwRKfSqnfX6"
      },
      "source": [
        "### **Arange**\n",
        "\n",
        "**a = np.arange( start, end , steps)**\n",
        "\n",
        "<br>"
      ]
    },
    {
      "cell_type": "code",
      "metadata": {
        "id": "Qho4u-QKnsGE"
      },
      "source": [
        "start=1\n",
        "stop=20\n",
        "steps=2\n",
        "\n",
        "a=np.arange(start,stop,steps)\n",
        "a"
      ],
      "execution_count": null,
      "outputs": []
    },
    {
      "cell_type": "code",
      "metadata": {
        "id": "4-cZvvT8oBNk"
      },
      "source": [
        "'''Creating Array '''\n",
        "\n",
        "c=np.arange(1,10,1)\n",
        "b=c.reshape((3,3))\n",
        "b"
      ],
      "execution_count": null,
      "outputs": []
    },
    {
      "cell_type": "code",
      "metadata": {
        "id": "R4NO54obQ5Mm"
      },
      "source": [
        "np.arange(1,10,1).reshape((3,3))"
      ],
      "execution_count": null,
      "outputs": []
    },
    {
      "cell_type": "markdown",
      "metadata": {
        "id": "tR0Ts566mbnw"
      },
      "source": [
        "### **Indexing**\n",
        "\n",
        "**A [ Row , Col ]**\n",
        "\n",
        "<br>"
      ]
    },
    {
      "cell_type": "code",
      "metadata": {
        "id": "nZCOSHlrpMX8"
      },
      "source": [
        "'''  \n",
        "In Lists \n",
        "\n",
        "l= [start : stop : steps]\n",
        "\n",
        "'''\n",
        "\n",
        "l=[1,2,3,4,5,6,7,8,9]\n",
        "\n",
        "print(l[5])\n",
        "\n",
        "\n"
      ],
      "execution_count": null,
      "outputs": []
    },
    {
      "cell_type": "code",
      "metadata": {
        "id": "jCBpauxomf-R"
      },
      "source": [
        "'''In Arrays'''\n",
        "\n",
        "A=np.arange(1,17,1).reshape((4,4))"
      ],
      "execution_count": null,
      "outputs": []
    },
    {
      "cell_type": "code",
      "metadata": {
        "id": "dM3fmMvUov32"
      },
      "source": [
        "A"
      ],
      "execution_count": null,
      "outputs": []
    },
    {
      "cell_type": "code",
      "metadata": {
        "id": "xlewKwY8ow10"
      },
      "source": [
        "A[1,1]"
      ],
      "execution_count": null,
      "outputs": []
    },
    {
      "cell_type": "markdown",
      "metadata": {
        "id": "4NaqDouXBR-k"
      },
      "source": [
        "### **Slicing** \n",
        "\n",
        "<br>\n",
        "\n",
        "1D ARRAY\n",
        "\n",
        "**array [start : end : steps]**\n",
        "\n",
        "**default values : start=0, end= size, steps=1**\n",
        "***\n",
        "\n",
        "<br>\n",
        "\n",
        "2D ARRAY\n",
        "\n",
        "\n",
        "**array [ start : end : steps , start : end : steps ]**\n",
        "\n",
        "\n",
        "<br><br>"
      ]
    },
    {
      "cell_type": "code",
      "metadata": {
        "id": "kYCn-H7ECJjP"
      },
      "source": [
        "arr= np.arange(64).reshape(8, 8)\n",
        "arr\n"
      ],
      "execution_count": null,
      "outputs": []
    },
    {
      "cell_type": "markdown",
      "metadata": {
        "id": "6FzXOEdiV_l6"
      },
      "source": [
        "**Case 1 : Select complete 4th row**     "
      ]
    },
    {
      "cell_type": "code",
      "metadata": {
        "id": "gc-pKeVaCWMK"
      },
      "source": [
        "arr[3]"
      ],
      "execution_count": null,
      "outputs": []
    },
    {
      "cell_type": "markdown",
      "metadata": {
        "id": "WDktZMnrWLgG"
      },
      "source": [
        "**Case 2 : Select Row's statring from \" 3rd \" till \" 6th \" position**"
      ]
    },
    {
      "cell_type": "code",
      "metadata": {
        "id": "thjcfCx-Vob0"
      },
      "source": [
        "\n",
        "arr[2:5+1]"
      ],
      "execution_count": null,
      "outputs": []
    },
    {
      "cell_type": "markdown",
      "metadata": {
        "id": "ebQYfDhkXQPB"
      },
      "source": [
        "**Case 3 : Select 2nd , 4th and 8th row**"
      ]
    },
    {
      "cell_type": "code",
      "metadata": {
        "id": "onnEJkbGVofG"
      },
      "source": [
        "\n",
        "arr[[1,3,7]]"
      ],
      "execution_count": null,
      "outputs": []
    },
    {
      "cell_type": "markdown",
      "metadata": {
        "id": "21s9A7L1Xw3G"
      },
      "source": [
        "**Case 4 : Select 2nd , 3rd and 4th columns**"
      ]
    },
    {
      "cell_type": "code",
      "metadata": {
        "id": "d8vDHFJrVomj"
      },
      "source": [
        "arr[ : , 1:3 ]"
      ],
      "execution_count": null,
      "outputs": []
    },
    {
      "cell_type": "markdown",
      "metadata": {
        "id": "BO54_hO3ZJBN"
      },
      "source": [
        "**Case 5 : Select a square part from the matrix**"
      ]
    },
    {
      "cell_type": "code",
      "metadata": {
        "id": "VcDqpB0SVoqt"
      },
      "source": [
        "arr[2:5,2:5]"
      ],
      "execution_count": null,
      "outputs": []
    },
    {
      "cell_type": "markdown",
      "metadata": {
        "id": "KyVnJJHBjf-w"
      },
      "source": [
        "### **Delete()**"
      ]
    },
    {
      "cell_type": "code",
      "metadata": {
        "id": "kyhFzjvJjjsP"
      },
      "source": [
        "import numpy as np\n",
        "a = np.arange(64).reshape(8, 8)\n",
        "print(a)\n"
      ],
      "execution_count": null,
      "outputs": []
    },
    {
      "cell_type": "code",
      "metadata": {
        "id": "nvA9I7nmj5w1"
      },
      "source": [
        "a_del = np.delete(a, 3, 0)\n",
        "print(a_del)"
      ],
      "execution_count": null,
      "outputs": []
    },
    {
      "cell_type": "code",
      "metadata": {
        "id": "nyNTZExjkGZI"
      },
      "source": [
        ""
      ],
      "execution_count": null,
      "outputs": []
    },
    {
      "cell_type": "markdown",
      "metadata": {
        "id": "3AuKTMdPkG5Z"
      },
      "source": [
        "### **Concatenation**"
      ]
    },
    {
      "cell_type": "code",
      "metadata": {
        "id": "oH2_Y0BvL_XW"
      },
      "source": [
        "arr1=np.array([1,2,3,4])\n",
        "\n",
        "arr2=np.array([9,8,10])\n",
        "\n",
        "np.concatenate((arr1,arr2))"
      ],
      "execution_count": null,
      "outputs": []
    },
    {
      "cell_type": "code",
      "metadata": {
        "id": "ow05LAuZMPSV"
      },
      "source": [
        "arr1 = np.array([[1,43, 2], [3,23, 4]])\n",
        "\n",
        "arr2 = np.array([[5,57, 6], [7,12, 8]])\n",
        "\n",
        "\n",
        "print(arr1,'\\n\\n',arr2)\n"
      ],
      "execution_count": null,
      "outputs": []
    },
    {
      "cell_type": "code",
      "metadata": {
        "id": "KIkCgDw2aWyO"
      },
      "source": [
        "np.concatenate( (arr1,arr2) , axis=1)"
      ],
      "execution_count": null,
      "outputs": []
    },
    {
      "cell_type": "code",
      "metadata": {
        "id": "lvh9fWlOSEUc"
      },
      "source": [
        "np.concatenate( (arr1,arr2) , axis=0)"
      ],
      "execution_count": null,
      "outputs": []
    },
    {
      "cell_type": "code",
      "metadata": {
        "id": "jBAgcE32QUoU"
      },
      "source": [
        ""
      ],
      "execution_count": null,
      "outputs": []
    },
    {
      "cell_type": "markdown",
      "metadata": {
        "id": "hsYXvGK5UMKp"
      },
      "source": [
        "### **Searching (where())**"
      ]
    },
    {
      "cell_type": "code",
      "metadata": {
        "id": "04FzJMz7UPnO"
      },
      "source": [
        "arr=np.array([[1,23, 2], [3,23, 4]])\n",
        "\n",
        "condi= (arr==23)\n",
        "np.where(condi)"
      ],
      "execution_count": null,
      "outputs": []
    },
    {
      "cell_type": "code",
      "metadata": {
        "id": "5tYledY3Ud0M"
      },
      "source": [
        "arr=np.arange(30).reshape((6,5))\n",
        "arr"
      ],
      "execution_count": null,
      "outputs": []
    },
    {
      "cell_type": "code",
      "metadata": {
        "id": "x4VVS43Clf9q"
      },
      "source": [
        "np.where( (arr<20)&(arr>5)&(arr%2==0) )"
      ],
      "execution_count": null,
      "outputs": []
    },
    {
      "cell_type": "code",
      "metadata": {
        "id": "M6VbvedjmnGm"
      },
      "source": [
        "np.where((arr<20)&(arr>5)&(arr%2==0))"
      ],
      "execution_count": null,
      "outputs": []
    },
    {
      "cell_type": "markdown",
      "metadata": {
        "id": "4woekYF_VOrG"
      },
      "source": [
        "### **Sorting**"
      ]
    },
    {
      "cell_type": "code",
      "metadata": {
        "id": "th8-6YqLVQuA"
      },
      "source": [
        "arr = np.array([3, 2, 0, 1])\n",
        "\n",
        "print(np.sort(arr))"
      ],
      "execution_count": null,
      "outputs": []
    },
    {
      "cell_type": "code",
      "metadata": {
        "id": "U5iPA9QgVUZn"
      },
      "source": [
        "arr = np.array(['banana', 'cherry', 'apple'])\n",
        "\n",
        "print(np.sort(arr))"
      ],
      "execution_count": null,
      "outputs": []
    },
    {
      "cell_type": "code",
      "metadata": {
        "id": "A20LolBTVaQc"
      },
      "source": [
        "arr = np.array([[3, 2, 4], [5, 0, 1]])\n",
        "\n",
        "print(np.sort(arr))\n"
      ],
      "execution_count": null,
      "outputs": []
    },
    {
      "cell_type": "code",
      "metadata": {
        "id": "JJEBbtfDm-1b"
      },
      "source": [
        ""
      ],
      "execution_count": null,
      "outputs": []
    },
    {
      "cell_type": "code",
      "metadata": {
        "id": "2prF4lbxJdEW"
      },
      "source": [
        ""
      ],
      "execution_count": null,
      "outputs": []
    },
    {
      "cell_type": "code",
      "metadata": {
        "id": "wGHFjZQTRMgm"
      },
      "source": [
        ""
      ],
      "execution_count": null,
      "outputs": []
    }
  ]
}