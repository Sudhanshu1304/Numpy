{
  "nbformat": 4,
  "nbformat_minor": 0,
  "metadata": {
    "colab": {
      "name": "NUMPY_Module.ipynb",
      "provenance": [],
      "collapsed_sections": [],
      "authorship_tag": "ABX9TyO28u60XWOckHeySIp1HkfS",
      "include_colab_link": true
    },
    "kernelspec": {
      "name": "python3",
      "display_name": "Python 3"
    }
  },
  "cells": [
    {
      "cell_type": "markdown",
      "metadata": {
        "id": "view-in-github",
        "colab_type": "text"
      },
      "source": [
        "<a href=\"https://colab.research.google.com/github/Sudhanshu1304/Numpy/blob/main/NUMPY_Module.ipynb\" target=\"_parent\"><img src=\"https://colab.research.google.com/assets/colab-badge.svg\" alt=\"Open In Colab\"/></a>"
      ]
    },
    {
      "cell_type": "markdown",
      "metadata": {
        "id": "606XbPISkrOk"
      },
      "source": [
        "\n",
        "# **Topics covered**\n",
        "\n",
        "\n",
        "* **Creating Array**\n",
        "* **Reshape()**\n",
        "* **Shape() and Data type**\n",
        "* **Type Conversion (.astype())** \n",
        "* **Full()**\n",
        "* **Arange()**\n",
        "* **Indexing**\n",
        "* **Slicing**\n",
        "* **Delete**\n",
        "* **Concatination**\n",
        "* **Searching** \n",
        "* **Sorting**\n",
        "\n",
        "<br><br>"
      ]
    },
    {
      "cell_type": "code",
      "metadata": {
        "id": "tJ293pZfgCEx",
        "outputId": "357b31d6-40f6-4c31-c960-d9257535d2b7",
        "colab": {
          "base_uri": "https://localhost:8080/"
        }
      },
      "source": [
        "pip install numpy"
      ],
      "execution_count": null,
      "outputs": [
        {
          "output_type": "stream",
          "text": [
            "Requirement already satisfied: numpy in /usr/local/lib/python3.6/dist-packages (1.18.5)\n"
          ],
          "name": "stdout"
        }
      ]
    },
    {
      "cell_type": "code",
      "metadata": {
        "id": "rhxW2Hyy5u0T"
      },
      "source": [
        ""
      ],
      "execution_count": null,
      "outputs": []
    },
    {
      "cell_type": "markdown",
      "metadata": {
        "id": "H5diVfn75vtj"
      },
      "source": [
        "# **Importing Numpy Array**"
      ]
    },
    {
      "cell_type": "code",
      "metadata": {
        "id": "JxKoiGKz50_z"
      },
      "source": [
        "import numpy as np"
      ],
      "execution_count": null,
      "outputs": []
    },
    {
      "cell_type": "markdown",
      "metadata": {
        "id": "Cj0A9iqwr7Xb"
      },
      "source": [
        "### **Creating Array (np.array())**\n",
        "\n"
      ]
    },
    {
      "cell_type": "code",
      "metadata": {
        "id": "2lBS6dLZrDYs",
        "outputId": "b834784d-ddb5-4b50-8df7-d2881ee60312",
        "colab": {
          "base_uri": "https://localhost:8080/"
        }
      },
      "source": [
        "''' Creating a normal array '''\n",
        "\n",
        "normal_array=[1,2,3,4,6,7]\n",
        "normal_array\n"
      ],
      "execution_count": null,
      "outputs": [
        {
          "output_type": "execute_result",
          "data": {
            "text/plain": [
              "array([[ 1,  2,  3],\n",
              "       [ 5,  6,  7],\n",
              "       [ 8,  9, 10]])"
            ]
          },
          "metadata": {
            "tags": []
          },
          "execution_count": 39
        }
      ]
    },
    {
      "cell_type": "code",
      "metadata": {
        "id": "KBl_upc68a4N"
      },
      "source": [
        "''' Creating a normal array '''\n",
        "\n",
        "numpy_array=np.array([1,7,4,3,7,9])\n",
        "numpy_array\n"
      ],
      "execution_count": null,
      "outputs": []
    },
    {
      "cell_type": "code",
      "metadata": {
        "id": "BhCCEtNurrKt"
      },
      "source": [
        "''' Comparing the two arrays '''\n",
        "\n",
        "print(type(normal_array),type(numpy_array))\n"
      ],
      "execution_count": null,
      "outputs": []
    },
    {
      "cell_type": "code",
      "metadata": {
        "id": "zk_uIyMwXNPB"
      },
      "source": [
        ""
      ],
      "execution_count": null,
      "outputs": []
    },
    {
      "cell_type": "markdown",
      "metadata": {
        "id": "kQpDHIfksk0H"
      },
      "source": [
        "### **.reshape()**"
      ]
    },
    {
      "cell_type": "code",
      "metadata": {
        "id": "Q7YECEEYIz6M"
      },
      "source": [
        "'''  1D array converted into 2D array with 2 rows and 3 Columns  '''\n",
        "\n",
        "arr=np.array([1,2,3,5,6,7])\n",
        "\n",
        "arr=arr.reshape(shape=(2,3))\n",
        "\n",
        "arr"
      ],
      "execution_count": null,
      "outputs": []
    },
    {
      "cell_type": "markdown",
      "metadata": {
        "id": "jCtz7BGGuLQS"
      },
      "source": [
        "### **.shape and .dtype**"
      ]
    },
    {
      "cell_type": "code",
      "metadata": {
        "id": "lndGPyZus5HQ",
        "outputId": "3506acb3-7c12-4f5a-875b-bd9f2bd2c098",
        "colab": {
          "base_uri": "https://localhost:8080/"
        }
      },
      "source": [
        "arr2.shape"
      ],
      "execution_count": null,
      "outputs": [
        {
          "output_type": "execute_result",
          "data": {
            "text/plain": [
              "(2, 3)"
            ]
          },
          "metadata": {
            "tags": []
          },
          "execution_count": 40
        }
      ]
    },
    {
      "cell_type": "code",
      "metadata": {
        "id": "dqMUANX2vEgS",
        "outputId": "3dd2cd38-90ad-4eab-cfcc-8bb78c20e21f",
        "colab": {
          "base_uri": "https://localhost:8080/"
        }
      },
      "source": [
        "arr2.dtype"
      ],
      "execution_count": null,
      "outputs": [
        {
          "output_type": "execute_result",
          "data": {
            "text/plain": [
              "dtype('int64')"
            ]
          },
          "metadata": {
            "tags": []
          },
          "execution_count": 41
        }
      ]
    },
    {
      "cell_type": "markdown",
      "metadata": {
        "id": "iVROPxfrwYtD"
      },
      "source": [
        "### **Type converstion (.astype())**"
      ]
    },
    {
      "cell_type": "code",
      "metadata": {
        "id": "1y1RzwfyvNFp"
      },
      "source": [
        "arr=np.array([5,4,3,2])\n",
        "arr.dtype"
      ],
      "execution_count": null,
      "outputs": []
    },
    {
      "cell_type": "code",
      "metadata": {
        "id": "wWB0EMMpx4Eu"
      },
      "source": [
        "arr=arr.astype('float')"
      ],
      "execution_count": null,
      "outputs": []
    },
    {
      "cell_type": "code",
      "metadata": {
        "id": "ALtIK-cYyUay"
      },
      "source": [
        "arr.dtype"
      ],
      "execution_count": null,
      "outputs": []
    },
    {
      "cell_type": "code",
      "metadata": {
        "id": "hP_aVnRlyVYe"
      },
      "source": [
        ""
      ],
      "execution_count": null,
      "outputs": []
    },
    {
      "cell_type": "markdown",
      "metadata": {
        "id": "5SzxtFV5ggJS"
      },
      "source": [
        "### **.full()**"
      ]
    },
    {
      "cell_type": "code",
      "metadata": {
        "id": "xu2QugJOKM9a"
      },
      "source": [
        "''' numpy.full() '''\n",
        "\n",
        "arr=np.full(shape=(3,5),fill_value=5)\n",
        "arr"
      ],
      "execution_count": null,
      "outputs": []
    },
    {
      "cell_type": "code",
      "metadata": {
        "id": "sNPLnsqOmbCW"
      },
      "source": [
        ""
      ],
      "execution_count": null,
      "outputs": []
    },
    {
      "cell_type": "markdown",
      "metadata": {
        "id": "TiwRKfSqnfX6"
      },
      "source": [
        "### **Arange**\n",
        "\n",
        "**a = np.arange( start, end , steps)**\n",
        "\n",
        "<br>"
      ]
    },
    {
      "cell_type": "code",
      "metadata": {
        "id": "Qho4u-QKnsGE"
      },
      "source": [
        "start=1\n",
        "stop=20\n",
        "steps=2\n",
        "\n",
        "a=np.arange(1,10,2)"
      ],
      "execution_count": null,
      "outputs": []
    },
    {
      "cell_type": "code",
      "metadata": {
        "id": "4-cZvvT8oBNk"
      },
      "source": [
        "'''Creating Array '''\n",
        "c=np.arange(1,10,1)\n",
        "b=c.reshape((3,3))\n",
        "b"
      ],
      "execution_count": null,
      "outputs": []
    },
    {
      "cell_type": "markdown",
      "metadata": {
        "id": "tR0Ts566mbnw"
      },
      "source": [
        "### **Indexing**\n",
        "\n",
        "**A [ Row , Col ]**\n",
        "\n",
        "<br>"
      ]
    },
    {
      "cell_type": "code",
      "metadata": {
        "id": "nZCOSHlrpMX8"
      },
      "source": [
        "'''  \n",
        "In Lists \n",
        "\n",
        "l= [start : stop : steps]\n",
        "\n",
        "'''\n",
        "\n",
        "l=[1,2,3,4,5,6,7,8,9]\n",
        "\n",
        "print(l[1:6])\n",
        "print(l[1:6:2])\n",
        "print(l[::-1])\n",
        "print(l[::-2])\n"
      ],
      "execution_count": null,
      "outputs": []
    },
    {
      "cell_type": "code",
      "metadata": {
        "id": "jCBpauxomf-R"
      },
      "source": [
        "A=np.arange(1,17,1).reshape((4,4))"
      ],
      "execution_count": null,
      "outputs": []
    },
    {
      "cell_type": "code",
      "metadata": {
        "id": "dM3fmMvUov32"
      },
      "source": [
        "A"
      ],
      "execution_count": null,
      "outputs": []
    },
    {
      "cell_type": "code",
      "metadata": {
        "id": "xlewKwY8ow10"
      },
      "source": [
        "A[1,1]"
      ],
      "execution_count": null,
      "outputs": []
    },
    {
      "cell_type": "code",
      "metadata": {
        "id": "hvzl-aYeow4D"
      },
      "source": [
        "A[1,:3]"
      ],
      "execution_count": null,
      "outputs": []
    },
    {
      "cell_type": "markdown",
      "metadata": {
        "id": "4NaqDouXBR-k"
      },
      "source": [
        "### **Slicing** \n",
        "\n",
        "<br>\n",
        "\n",
        "1D ARRAY\n",
        "\n",
        "**array [start : end : steps]**\n",
        "\n",
        "**default values : start=0, end= size, steps=1**\n",
        "***\n",
        "\n",
        "<br>\n",
        "\n",
        "2D ARRAY\n",
        "\n",
        "\n",
        "**array [ start : end : steps , start : end : steps ]**\n",
        "\n",
        "\n",
        "<br><br>"
      ]
    },
    {
      "cell_type": "code",
      "metadata": {
        "id": "080ZD2FdBU12"
      },
      "source": [
        "arr=np.array([1,2,3,4,5,6])"
      ],
      "execution_count": null,
      "outputs": []
    },
    {
      "cell_type": "code",
      "metadata": {
        "id": "F_ZC3hZjBni0"
      },
      "source": [
        "a1=arr[1:]\n",
        "a2=arr[1:5:1]\n",
        "a3=arr[1:5:2]\n"
      ],
      "execution_count": null,
      "outputs": []
    },
    {
      "cell_type": "code",
      "metadata": {
        "id": "WUTe8sImCDfP"
      },
      "source": [
        "print(a1)\n",
        "print(a2)\n",
        "print(a3)"
      ],
      "execution_count": null,
      "outputs": []
    },
    {
      "cell_type": "code",
      "metadata": {
        "id": "kYCn-H7ECJjP"
      },
      "source": [
        "arr=np.array([[1,2,3],[5,6,7],[9,3,6]])\n",
        "\n",
        "arr[:,1:2]"
      ],
      "execution_count": null,
      "outputs": []
    },
    {
      "cell_type": "code",
      "metadata": {
        "id": "gc-pKeVaCWMK"
      },
      "source": [
        ""
      ],
      "execution_count": null,
      "outputs": []
    },
    {
      "cell_type": "markdown",
      "metadata": {
        "id": "KyVnJJHBjf-w"
      },
      "source": [
        "### **Delete()**"
      ]
    },
    {
      "cell_type": "code",
      "metadata": {
        "id": "kyhFzjvJjjsP"
      },
      "source": [
        "import numpy as np\n",
        "a = np.arange(12).reshape(3, 4)\n",
        "print(a)\n"
      ],
      "execution_count": null,
      "outputs": []
    },
    {
      "cell_type": "code",
      "metadata": {
        "id": "nvA9I7nmj5w1"
      },
      "source": [
        "a_del = np.delete(a, 1, 0)\n",
        "print(a_del)"
      ],
      "execution_count": null,
      "outputs": []
    },
    {
      "cell_type": "code",
      "metadata": {
        "id": "nyNTZExjkGZI"
      },
      "source": [
        ""
      ],
      "execution_count": null,
      "outputs": []
    },
    {
      "cell_type": "markdown",
      "metadata": {
        "id": "3AuKTMdPkG5Z"
      },
      "source": [
        "### **Concatenation**"
      ]
    },
    {
      "cell_type": "code",
      "metadata": {
        "id": "oH2_Y0BvL_XW"
      },
      "source": [
        "arr1=np.array([1,2,3,4])\n",
        "\n",
        "arr2=np.array([9,8,10])\n",
        "\n",
        "np.concatenate((arr1,arr2))"
      ],
      "execution_count": null,
      "outputs": []
    },
    {
      "cell_type": "code",
      "metadata": {
        "id": "ow05LAuZMPSV"
      },
      "source": [
        "arr1 = np.array([[1,43, 2], [3,23, 4]])\n",
        "\n",
        "arr2 = np.array([[5,57, 6], [7,12, 8]])\n",
        "\n",
        "\n",
        "'''   axis==1==column implies it will increase the no of columns and similarly for rows  ''' \n",
        "\n",
        "arr = np.concatenate((arr1, arr2), axis=1)\n",
        "arr"
      ],
      "execution_count": null,
      "outputs": []
    },
    {
      "cell_type": "code",
      "metadata": {
        "id": "lvh9fWlOSEUc"
      },
      "source": [
        "arr.shape"
      ],
      "execution_count": null,
      "outputs": []
    },
    {
      "cell_type": "code",
      "metadata": {
        "id": "jBAgcE32QUoU"
      },
      "source": [
        ""
      ],
      "execution_count": null,
      "outputs": []
    },
    {
      "cell_type": "markdown",
      "metadata": {
        "id": "hsYXvGK5UMKp"
      },
      "source": [
        "### **Searching (where())**"
      ]
    },
    {
      "cell_type": "code",
      "metadata": {
        "id": "04FzJMz7UPnO"
      },
      "source": [
        "arr=np.array([[1,23, 2], [3,23, 4]])\n",
        "\n",
        "np.where(arr==23)"
      ],
      "execution_count": null,
      "outputs": []
    },
    {
      "cell_type": "code",
      "metadata": {
        "id": "5tYledY3Ud0M"
      },
      "source": [
        ""
      ],
      "execution_count": null,
      "outputs": []
    },
    {
      "cell_type": "markdown",
      "metadata": {
        "id": "4woekYF_VOrG"
      },
      "source": [
        "### **Sorting**"
      ]
    },
    {
      "cell_type": "code",
      "metadata": {
        "id": "th8-6YqLVQuA"
      },
      "source": [
        "arr = np.array([3, 2, 0, 1])\n",
        "\n",
        "print(np.sort(arr))"
      ],
      "execution_count": null,
      "outputs": []
    },
    {
      "cell_type": "code",
      "metadata": {
        "id": "U5iPA9QgVUZn"
      },
      "source": [
        "arr = np.array(['banana', 'cherry', 'apple'])\n",
        "\n",
        "print(np.sort(arr))"
      ],
      "execution_count": null,
      "outputs": []
    },
    {
      "cell_type": "code",
      "metadata": {
        "id": "A20LolBTVaQc"
      },
      "source": [
        "arr = np.array([[3, 2, 4], [5, 0, 1]])\n",
        "\n",
        "print(np.sort(arr))\n"
      ],
      "execution_count": null,
      "outputs": []
    }
  ]
}