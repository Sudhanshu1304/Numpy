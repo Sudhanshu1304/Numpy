{
  "nbformat": 4,
  "nbformat_minor": 0,
  "metadata": {
    "colab": {
      "name": "Numpy_Practice",
      "provenance": [],
      "collapsed_sections": [],
      "authorship_tag": "ABX9TyPYAaHMoYNF8rFoCfqaGu34",
      "include_colab_link": true
    },
    "kernelspec": {
      "name": "python3",
      "display_name": "Python 3"
    }
  },
  "cells": [
    {
      "cell_type": "markdown",
      "metadata": {
        "id": "view-in-github",
        "colab_type": "text"
      },
      "source": [
        "<a href=\"https://colab.research.google.com/github/Sudhanshu1304/Numpy/blob/main/Numpy_Practice.ipynb\" target=\"_parent\"><img src=\"https://colab.research.google.com/assets/colab-badge.svg\" alt=\"Open In Colab\"/></a>"
      ]
    },
    {
      "cell_type": "markdown",
      "metadata": {
        "id": "g0s_vSzK8vWs"
      },
      "source": [
        "# **Numpy**"
      ]
    },
    {
      "cell_type": "markdown",
      "metadata": {
        "id": "4yY2stse89Mf"
      },
      "source": [
        "**Import Numpy** "
      ]
    },
    {
      "cell_type": "code",
      "metadata": {
        "id": "MoXcAkEl9CRW"
      },
      "source": [
        "''' Solution here '''\n",
        "\n"
      ],
      "execution_count": null,
      "outputs": []
    },
    {
      "cell_type": "markdown",
      "metadata": {
        "id": "trQ4UCsH9EKj"
      },
      "source": [
        "**1. Create two numpy  array arr1 , arr2**"
      ]
    },
    {
      "cell_type": "code",
      "metadata": {
        "id": "NvsH1dkS9mHn"
      },
      "source": [
        "''' Solution here '''"
      ],
      "execution_count": null,
      "outputs": []
    },
    {
      "cell_type": "markdown",
      "metadata": {
        "id": "PmaDdGtX-Cnp"
      },
      "source": [
        "### **Given Arr= np.array( [ 5, 2, 7, 9, 0, 10, 5, 67, 32 ])**\n",
        "\n",
        "\n",
        "\n",
        "\n",
        "<br>"
      ]
    },
    {
      "cell_type": "markdown",
      "metadata": {
        "id": "KFuHJkvi7Q1W"
      },
      "source": [
        "**a. Convert the above array into a (2x3) Metrix .**\n",
        "\n"
      ]
    },
    {
      "cell_type": "code",
      "metadata": {
        "id": "ma_8ULsZ97Xc"
      },
      "source": [
        "'''Solution here'''"
      ],
      "execution_count": null,
      "outputs": []
    },
    {
      "cell_type": "markdown",
      "metadata": {
        "id": "UclLRV8_7Q_8"
      },
      "source": [
        "**b.print the *Dimension* and *Shape* of the array.**\n",
        "\n"
      ]
    },
    {
      "cell_type": "code",
      "metadata": {
        "id": "xHtDNWlY7MSF"
      },
      "source": [
        "'''Solution here'''"
      ],
      "execution_count": null,
      "outputs": []
    },
    {
      "cell_type": "markdown",
      "metadata": {
        "id": "SmchK-MN1XyN"
      },
      "source": [
        "# **Slicing and Indexing** \n",
        "\n",
        "#### Given Array\n",
        "\n",
        "**Arr = [ [1,2,3,4], [5,6,7,8], [21,34,45,6] ]**\n",
        "\n",
        "<br>"
      ]
    },
    {
      "cell_type": "markdown",
      "metadata": {
        "id": "Pw8FGZHy1Uf9"
      },
      "source": [
        "**1. Convert the above array in a numpy array** "
      ]
    },
    {
      "cell_type": "code",
      "metadata": {
        "id": "GxsR5fZ8AeKh"
      },
      "source": [
        "''' Solution Here'''\n"
      ],
      "execution_count": null,
      "outputs": []
    },
    {
      "cell_type": "markdown",
      "metadata": {
        "id": "bkGzqvhp1xyZ"
      },
      "source": [
        "**2. Print the element at index (1,3),(0,2),(3,2)** "
      ]
    },
    {
      "cell_type": "code",
      "metadata": {
        "id": "0PeOVraY2Krx"
      },
      "source": [
        "''' Solution Here'''"
      ],
      "execution_count": null,
      "outputs": []
    },
    {
      "cell_type": "markdown",
      "metadata": {
        "id": "kWaQqaos1zWa"
      },
      "source": [
        "**3. Print the Complete 2nd row**"
      ]
    },
    {
      "cell_type": "code",
      "metadata": {
        "id": "BXKFWZop2L3z"
      },
      "source": [
        "''' Solution Here'''"
      ],
      "execution_count": null,
      "outputs": []
    },
    {
      "cell_type": "markdown",
      "metadata": {
        "id": "YTQ5p1gG1zb9"
      },
      "source": [
        "**4. Print the Complete 3rd row**\n"
      ]
    },
    {
      "cell_type": "code",
      "metadata": {
        "id": "qdf8j-dz2Msj"
      },
      "source": [
        "''' Solution Here'''"
      ],
      "execution_count": null,
      "outputs": []
    },
    {
      "cell_type": "markdown",
      "metadata": {
        "id": "oiveoGPj1zjM"
      },
      "source": [
        "**5. Print [2,3][6,7]**"
      ]
    },
    {
      "cell_type": "code",
      "metadata": {
        "id": "QLSIekp42Ngv"
      },
      "source": [
        "''' Solution Here'''"
      ],
      "execution_count": null,
      "outputs": []
    },
    {
      "cell_type": "markdown",
      "metadata": {
        "id": "NsOz0S-R2Gls"
      },
      "source": [
        "**6. Print [2,3,4][34,45,6]**"
      ]
    },
    {
      "cell_type": "code",
      "metadata": {
        "id": "ztkLspJG2OO9"
      },
      "source": [
        "''' Solution Here'''"
      ],
      "execution_count": null,
      "outputs": []
    },
    {
      "cell_type": "code",
      "metadata": {
        "id": "8JQdP9KWJxVx"
      },
      "source": [
        ""
      ],
      "execution_count": null,
      "outputs": []
    },
    {
      "cell_type": "markdown",
      "metadata": {
        "id": "63rfJNx4r-zC"
      },
      "source": [
        "#**Array Arithmetic**\n",
        "\n"
      ]
    },
    {
      "cell_type": "code",
      "metadata": {
        "id": "-FKlg2rRsPnr"
      },
      "source": [
        "import numpy as np\n",
        "\n",
        "\n",
        "a1=np.arange(11,20).reshape((3,3))\n",
        "\n",
        "a2=np.arange(51,60).reshape((3,3))\n",
        "\n"
      ],
      "execution_count": null,
      "outputs": []
    },
    {
      "cell_type": "markdown",
      "metadata": {
        "id": "P6rwhktv63A-"
      },
      "source": [
        "**1. Perform addition**"
      ]
    },
    {
      "cell_type": "code",
      "metadata": {
        "id": "d1yItujesTd2"
      },
      "source": [
        "'''Solution here'''"
      ],
      "execution_count": null,
      "outputs": []
    },
    {
      "cell_type": "markdown",
      "metadata": {
        "id": "jUuxATUq63IO"
      },
      "source": [
        "**2. Multiplication**"
      ]
    },
    {
      "cell_type": "code",
      "metadata": {
        "id": "L0Pcb3c8wiAk"
      },
      "source": [
        "'''Solution here'''"
      ],
      "execution_count": null,
      "outputs": []
    },
    {
      "cell_type": "markdown",
      "metadata": {
        "id": "JahrVKjv63M2"
      },
      "source": [
        "**3. Use Power function in the above two array.**"
      ]
    },
    {
      "cell_type": "code",
      "metadata": {
        "id": "K_WFCDJW7PXj"
      },
      "source": [
        "'''Solution here'''"
      ],
      "execution_count": null,
      "outputs": []
    },
    {
      "cell_type": "markdown",
      "metadata": {
        "id": "6ZvSZEVo63Sv"
      },
      "source": [
        "**4. Perform a dot operation between the arrays.**"
      ]
    },
    {
      "cell_type": "code",
      "metadata": {
        "id": "23f5nL967PpN"
      },
      "source": [
        "'''Solution here'''"
      ],
      "execution_count": null,
      "outputs": []
    },
    {
      "cell_type": "markdown",
      "metadata": {
        "id": "TjxG2cCh63Yj"
      },
      "source": [
        "**5. Transpose the two array.**"
      ]
    },
    {
      "cell_type": "code",
      "metadata": {
        "id": "_9Uf3aXQ7P9H"
      },
      "source": [
        "'''Solution here'''"
      ],
      "execution_count": null,
      "outputs": []
    }
  ]
}